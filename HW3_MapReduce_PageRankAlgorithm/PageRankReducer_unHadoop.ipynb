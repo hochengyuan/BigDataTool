{
 "cells": [
  {
   "cell_type": "code",
   "execution_count": 1,
   "metadata": {
    "collapsed": false
   },
   "outputs": [],
   "source": [
    "inputMapResult = open(\"mapResult.txt\" , 'r' , encoding = 'UTF-8')\n",
    "content = inputMapResult.read().split('\\n')\n",
    "# split [string,string,...] to [['string','string'...]...]\n",
    "content = [linkList.split() for linkList in content]\n",
    "# make float-like string to exact float\n",
    "for index_content , linkList in enumerate(content):\n",
    "    for index_linkList , element in enumerate(linkList):\n",
    "        try:\n",
    "            content[index_content][index_linkList] = (float(element))\n",
    "        except ValueError:\n",
    "            pass"
   ]
  },
  {
   "cell_type": "code",
   "execution_count": 2,
   "metadata": {
    "collapsed": false
   },
   "outputs": [
    {
     "data": {
      "text/plain": [
       "[['A', 'C', 'F'],\n",
       " ['C', 'A', 0.0833335],\n",
       " ['F', 'A', 0.0833335],\n",
       " ['B', 'D', 'E', 'F'],\n",
       " ['D', 'B', 0.0555556666667],\n",
       " ['E', 'B', 0.0555556666667],\n",
       " ['F', 'B', 0.0555556666667],\n",
       " ['C', 'A', 'B'],\n",
       " ['A', 'C', 0.0833335],\n",
       " ['B', 'C', 0.0833335],\n",
       " ['D', 'A', 'B', 'C', 'E', 'F'],\n",
       " ['A', 'D', 0.0333334],\n",
       " ['B', 'D', 0.0333334],\n",
       " ['C', 'D', 0.0333334],\n",
       " ['E', 'D', 0.0333334],\n",
       " ['F', 'D', 0.0333334],\n",
       " ['E', 'F'],\n",
       " ['F', 'E', 0.166667],\n",
       " ['F', 'B', 'C'],\n",
       " ['B', 'F', 0.0833335],\n",
       " ['C', 'F', 0.0833335]]"
      ]
     },
     "execution_count": 2,
     "metadata": {},
     "output_type": "execute_result"
    }
   ],
   "source": [
    "content # TEST"
   ]
  },
  {
   "cell_type": "code",
   "execution_count": 3,
   "metadata": {
    "collapsed": false
   },
   "outputs": [],
   "source": [
    "OutputLinkList = []\n",
    "\n",
    "for linkList in content:\n",
    "    if (type(linkList[-1]) == str):\n",
    "        OutputLinkList.append(linkList)\n",
    "        content.remove(linkList)"
   ]
  },
  {
   "cell_type": "code",
   "execution_count": 4,
   "metadata": {
    "collapsed": false
   },
   "outputs": [
    {
     "data": {
      "text/plain": [
       "[['A', 'C', 'F'],\n",
       " ['B', 'D', 'E', 'F'],\n",
       " ['C', 'A', 'B'],\n",
       " ['D', 'A', 'B', 'C', 'E', 'F'],\n",
       " ['E', 'F'],\n",
       " ['F', 'B', 'C']]"
      ]
     },
     "execution_count": 4,
     "metadata": {},
     "output_type": "execute_result"
    }
   ],
   "source": [
    "OutputLinkList # TEST"
   ]
  },
  {
   "cell_type": "code",
   "execution_count": 5,
   "metadata": {
    "collapsed": false
   },
   "outputs": [
    {
     "data": {
      "text/plain": [
       "[['C', 'A', 0.0833335],\n",
       " ['F', 'A', 0.0833335],\n",
       " ['D', 'B', 0.0555556666667],\n",
       " ['E', 'B', 0.0555556666667],\n",
       " ['F', 'B', 0.0555556666667],\n",
       " ['A', 'C', 0.0833335],\n",
       " ['B', 'C', 0.0833335],\n",
       " ['A', 'D', 0.0333334],\n",
       " ['B', 'D', 0.0333334],\n",
       " ['C', 'D', 0.0333334],\n",
       " ['E', 'D', 0.0333334],\n",
       " ['F', 'D', 0.0333334],\n",
       " ['F', 'E', 0.166667],\n",
       " ['B', 'F', 0.0833335],\n",
       " ['C', 'F', 0.0833335]]"
      ]
     },
     "execution_count": 5,
     "metadata": {},
     "output_type": "execute_result"
    }
   ],
   "source": [
    "content # TEST"
   ]
  },
  {
   "cell_type": "code",
   "execution_count": 6,
   "metadata": {
    "collapsed": true
   },
   "outputs": [],
   "source": [
    "for elementList in OutputLinkList:\n",
    "    elementList.append(0)"
   ]
  },
  {
   "cell_type": "code",
   "execution_count": 7,
   "metadata": {
    "collapsed": false
   },
   "outputs": [
    {
     "data": {
      "text/plain": [
       "[['A', 'C', 'F', 0],\n",
       " ['B', 'D', 'E', 'F', 0],\n",
       " ['C', 'A', 'B', 0],\n",
       " ['D', 'A', 'B', 'C', 'E', 'F', 0],\n",
       " ['E', 'F', 0],\n",
       " ['F', 'B', 'C', 0]]"
      ]
     },
     "execution_count": 7,
     "metadata": {},
     "output_type": "execute_result"
    }
   ],
   "source": [
    "OutputLinkList # TEST"
   ]
  },
  {
   "cell_type": "code",
   "execution_count": 8,
   "metadata": {
    "collapsed": false
   },
   "outputs": [],
   "source": [
    "for elementList in OutputLinkList:\n",
    "    for mapValueList in content:\n",
    "        if mapValueList[0] == elementList[0]:\n",
    "           elementList[-1] += mapValueList[-1]\n",
    "           \n",
    "for elementList in OutputLinkList:\n",
    "    elementList[-1] = round(elementList[-1] , 6)"
   ]
  },
  {
   "cell_type": "code",
   "execution_count": 9,
   "metadata": {
    "collapsed": false
   },
   "outputs": [],
   "source": [
    "reduceResult = \"\"\n",
    "for resultLinkList in OutputLinkList:\n",
    "    resultLinkList[-1] = str(resultLinkList[-1])\n",
    "    for result in resultLinkList:\n",
    "        reduceResult += result + \" \"\n",
    "    reduceResult.rstrip(\" \")\n",
    "    reduceResult += '\\n'\n",
    "reduceResult = reduceResult.rstrip('\\n')"
   ]
  },
  {
   "cell_type": "code",
   "execution_count": 10,
   "metadata": {
    "collapsed": false
   },
   "outputs": [
    {
     "name": "stdout",
     "output_type": "stream",
     "text": [
      "A C F 0.116667 \n",
      "B D E F 0.2 \n",
      "C A B 0.2 \n",
      "D A B C E F 0.055556 \n",
      "E F 0.088889 \n",
      "F B C 0.33889 \n"
     ]
    }
   ],
   "source": [
    "print(reduceResult)"
   ]
  },
  {
   "cell_type": "code",
   "execution_count": 11,
   "metadata": {
    "collapsed": true
   },
   "outputs": [],
   "source": [
    "with open('outputFile.txt' , 'w' , encoding = 'UTF-8') as outputFile:\n",
    "    outputFile.write(reduceResult)"
   ]
  },
  {
   "cell_type": "code",
   "execution_count": null,
   "metadata": {
    "collapsed": true
   },
   "outputs": [],
   "source": []
  }
 ],
 "metadata": {
  "kernelspec": {
   "display_name": "Python 3",
   "language": "python",
   "name": "python3"
  },
  "language_info": {
   "codemirror_mode": {
    "name": "ipython",
    "version": 3
   },
   "file_extension": ".py",
   "mimetype": "text/x-python",
   "name": "python",
   "nbconvert_exporter": "python",
   "pygments_lexer": "ipython3",
   "version": "3.6.0"
  }
 },
 "nbformat": 4,
 "nbformat_minor": 2
}
