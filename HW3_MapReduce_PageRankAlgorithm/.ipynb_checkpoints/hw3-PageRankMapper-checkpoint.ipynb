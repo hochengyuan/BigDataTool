{
 "cells": [
  {
   "cell_type": "code",
   "execution_count": 2,
   "metadata": {
    "collapsed": false
   },
   "outputs": [],
   "source": [
    "#!/usr/bin/env python\n",
    "\n",
    "import sys\n",
    "\n",
    "for content in sys.stdin:\n",
    "    content = content.strip()\n",
    "    content = content.split('\\n')\n",
    "    # split [string,string,...] to [['string','string'...]...]\n",
    "    content = [linkList.split() for linkList in content]\n",
    "    # make float-like string to exact float\n",
    "    for linkList in content:\n",
    "        linkList[-1] = float(linkList[-1])\n",
    "\n",
    "    # HW Requriement 1: Print out the original outlinks information\n",
    "    OOI = \"\"\n",
    "    for linkList in content:\n",
    "        for element in linkList[:-1]:\n",
    "            OOI = OOI + element + \" \"\n",
    "    OOI += '\\n'\n",
    "    OOI = OOI.rstrip('\\n') # delete the last blank line\n",
    "    print(OOI)\n",
    "\n",
    "    \n",
    "    # initialize a Dictionary of PageRank\n",
    "    DictPageRank = {}\n",
    "    # add initial PR and respective Page to DictPageRank\n",
    "    for PR_List in content:\n",
    "        addDictPR = {PR_List[0] : PR_List[-1]}\n",
    "        DictPageRank.update(addDictPR)\n",
    "        # now we get initial value for every page\n",
    "    list_content_noValue = [linkList[:-1] for linkList in content]\n",
    "    # mapping DictPageLinkList\n",
    "    # initialize the mappingList as a Dictionary\n",
    "    MapList = []\n",
    "\n",
    "    for linkList in list_content_noValue:\n",
    "        for DictPgRk_Key , DictPgRk_Value in DictPageRank.items():\n",
    "            # parse KeyPage from list content\n",
    "            source_page = linkList[0]\n",
    "            source_value = DictPageRank[source_page]\n",
    "            source_divider = len(linkList[1:])\n",
    "            source_divided_value = source_value / source_divider\n",
    "        for element in linkList[1:]:\n",
    "            outbound_Key = element\n",
    "            toAppendList = [outbound_Key , source_page , source_divided_value]\n",
    "            MapList.append(toAppendList)\n",
    "\n",
    "    resultString = \"\"\n",
    "    for listResult in MapList:\n",
    "        listResult[-1] = str(listResult[-1])\n",
    "        for element in listResult:\n",
    "            resultString += element + \" \"\n",
    "        resultString += '\\n'\n",
    "    \n",
    "\n",
    "    resultString = resultString.rstrip('\\n')\n",
    "\n",
    "    print(resultString)"
   ]
  },
  {
   "cell_type": "code",
   "execution_count": null,
   "metadata": {
    "collapsed": true
   },
   "outputs": [],
   "source": []
  }
 ],
 "metadata": {
  "kernelspec": {
   "display_name": "Python 3",
   "language": "python",
   "name": "python3"
  },
  "language_info": {
   "codemirror_mode": {
    "name": "ipython",
    "version": 3
   },
   "file_extension": ".py",
   "mimetype": "text/x-python",
   "name": "python",
   "nbconvert_exporter": "python",
   "pygments_lexer": "ipython3",
   "version": "3.6.0"
  }
 },
 "nbformat": 4,
 "nbformat_minor": 2
}
