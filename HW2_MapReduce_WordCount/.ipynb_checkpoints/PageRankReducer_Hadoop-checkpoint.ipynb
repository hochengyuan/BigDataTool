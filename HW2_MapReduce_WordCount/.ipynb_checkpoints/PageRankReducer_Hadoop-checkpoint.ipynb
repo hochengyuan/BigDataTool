{
 "cells": [
  {
   "cell_type": "code",
   "execution_count": 1,
   "metadata": {
    "collapsed": true
   },
   "outputs": [],
   "source": [
    "#!/usr/bin/env python\n",
    "\n",
    "import sys\n",
    "\n",
    "for content in sys.stdin:\n",
    "    content.strip()\n",
    "    content.split('\\n')\n",
    "    # split [string,string,...] to [['string','string'...]...]\n",
    "    content = [linkList.split() for linkList in content]\n",
    "    # make float-like string to exact float\n",
    "    for index_content , linkList in enumerate(content):\n",
    "        for index_linkList , element in enumerate(linkList):\n",
    "            try:\n",
    "                content[index_content][index_linkList] = (float(element))\n",
    "            except ValueError:\n",
    "                pass\n",
    "    OutputLinkList = []\n",
    "\n",
    "    for linkList in content:\n",
    "        if (type(linkList[-1]) == str):\n",
    "            OutputLinkList.append(linkList)\n",
    "            content.remove(linkList)\n",
    "            \n",
    "    for elementList in OutputLinkList:\n",
    "        elementList.append(0)\n",
    "    \n",
    "    for elementList in OutputLinkList:\n",
    "        for mapValueList in content:\n",
    "            if mapValueList[1] == elementList[0]:\n",
    "               elementList[-1] += mapValueList[-1]\n",
    "           \n",
    "    for elementList in OutputLinkList:\n",
    "        elementList[-1] = round(elementList[-1] , 6)\n",
    "    \n",
    "    reduceResult = \"\"\n",
    "    for resultLinkList in OutputLinkList:\n",
    "        resultLinkList[-1] = str(resultLinkList[-1])\n",
    "        for result in resultLinkList:\n",
    "            reduceResult += result + \" \"\n",
    "        reduceResult += '\\n'\n",
    "    reduceResult = reduceResult.rstrip('\\n')\n",
    "    \n",
    "    print(reduceResult)"
   ]
  },
  {
   "cell_type": "code",
   "execution_count": null,
   "metadata": {
    "collapsed": true
   },
   "outputs": [],
   "source": []
  }
 ],
 "metadata": {
  "kernelspec": {
   "display_name": "Python 3",
   "language": "python",
   "name": "python3"
  },
  "language_info": {
   "codemirror_mode": {
    "name": "ipython",
    "version": 3
   },
   "file_extension": ".py",
   "mimetype": "text/x-python",
   "name": "python",
   "nbconvert_exporter": "python",
   "pygments_lexer": "ipython3",
   "version": "3.6.0"
  }
 },
 "nbformat": 4,
 "nbformat_minor": 2
}
