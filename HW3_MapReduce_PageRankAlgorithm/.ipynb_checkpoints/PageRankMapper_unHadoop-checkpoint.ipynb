{
 "cells": [
  {
   "cell_type": "code",
   "execution_count": 1,
   "metadata": {
    "collapsed": false
   },
   "outputs": [],
   "source": [
    "inputFile = open(\"inputFile.txt\" , 'r' , encoding = 'UTF-8')\n",
    "content = inputFile.read().split('\\n')"
   ]
  },
  {
   "cell_type": "code",
   "execution_count": 2,
   "metadata": {
    "collapsed": false
   },
   "outputs": [],
   "source": [
    "# split [string,string,...] to [['string','string'...]...]\n",
    "content = [linkList.split() for linkList in content]\n",
    "# make float-like string to exact float\n",
    "for linkList in content:\n",
    "    linkList[-1] = float(linkList[-1])"
   ]
  },
  {
   "cell_type": "code",
   "execution_count": 3,
   "metadata": {
    "collapsed": false
   },
   "outputs": [
    {
     "name": "stdout",
     "output_type": "stream",
     "text": [
      "A C F \n",
      "B D E F \n",
      "C A B \n",
      "D A B C E F \n",
      "E F \n",
      "F B C \n"
     ]
    }
   ],
   "source": [
    "# HW Requriement 1: Print out the original outlinks information\n",
    "OOI = \"\"\n",
    "for linkList in content:\n",
    "    for element in linkList[:-1]:\n",
    "        OOI = OOI + element + \" \"\n",
    "    OOI += '\\n'\n",
    "OOI = OOI.rstrip('\\n') # delete the last blank line\n",
    "print(OOI)"
   ]
  },
  {
   "cell_type": "code",
   "execution_count": 4,
   "metadata": {
    "collapsed": false
   },
   "outputs": [],
   "source": [
    "# initialize a Dictionary of PageRank\n",
    "DictPageRank = {}\n",
    "# add initial PR and respective Page to DictPageRank\n",
    "for PR_List in content:\n",
    "    addDictPR = {PR_List[0] : PR_List[-1]}\n",
    "    DictPageRank.update(addDictPR)\n",
    "    # now we get initial value for every page"
   ]
  },
  {
   "cell_type": "code",
   "execution_count": 5,
   "metadata": {
    "collapsed": false
   },
   "outputs": [
    {
     "data": {
      "text/plain": [
       "[['A', 'C', 'F', 0.166667],\n",
       " ['B', 'D', 'E', 'F', 0.166667],\n",
       " ['C', 'A', 'B', 0.166667],\n",
       " ['D', 'A', 'B', 'C', 'E', 'F', 0.166667],\n",
       " ['E', 'F', 0.166667],\n",
       " ['F', 'B', 'C', 0.166667]]"
      ]
     },
     "execution_count": 5,
     "metadata": {},
     "output_type": "execute_result"
    }
   ],
   "source": [
    "content #NO COPY"
   ]
  },
  {
   "cell_type": "code",
   "execution_count": 6,
   "metadata": {
    "collapsed": false
   },
   "outputs": [
    {
     "name": "stdout",
     "output_type": "stream",
     "text": [
      "2\n"
     ]
    }
   ],
   "source": [
    "print(len(content[0][1:-1])) #NO COPY"
   ]
  },
  {
   "cell_type": "code",
   "execution_count": 7,
   "metadata": {
    "collapsed": false
   },
   "outputs": [
    {
     "data": {
      "text/plain": [
       "{'A': 0.166667,\n",
       " 'B': 0.166667,\n",
       " 'C': 0.166667,\n",
       " 'D': 0.166667,\n",
       " 'E': 0.166667,\n",
       " 'F': 0.166667}"
      ]
     },
     "execution_count": 7,
     "metadata": {},
     "output_type": "execute_result"
    }
   ],
   "source": [
    "DictPageRank #NO COPY"
   ]
  },
  {
   "cell_type": "code",
   "execution_count": 8,
   "metadata": {
    "collapsed": true
   },
   "outputs": [],
   "source": [
    "list_content_noValue = [linkList[:-1] for linkList in content]"
   ]
  },
  {
   "cell_type": "code",
   "execution_count": 9,
   "metadata": {
    "collapsed": false
   },
   "outputs": [
    {
     "data": {
      "text/plain": [
       "[['A', 'C', 'F'],\n",
       " ['B', 'D', 'E', 'F'],\n",
       " ['C', 'A', 'B'],\n",
       " ['D', 'A', 'B', 'C', 'E', 'F'],\n",
       " ['E', 'F'],\n",
       " ['F', 'B', 'C']]"
      ]
     },
     "execution_count": 9,
     "metadata": {},
     "output_type": "execute_result"
    }
   ],
   "source": [
    "list_content_noValue #NO COPY"
   ]
  },
  {
   "cell_type": "code",
   "execution_count": 10,
   "metadata": {
    "collapsed": false
   },
   "outputs": [],
   "source": [
    "# mapping DictPageLinkList\n",
    "# initialize the mappingList as a Dictionary\n",
    "MapList = []\n",
    "\n",
    "for linkList in list_content_noValue:\n",
    "    for DictPgRk_Key , DictPgRk_Value in DictPageRank.items():\n",
    "        # parse KeyPage from list content\n",
    "        source_page = linkList[0]\n",
    "        source_value = DictPageRank[source_page]\n",
    "        source_divider = len(linkList[1:])\n",
    "        source_divided_value = source_value / source_divider\n",
    "    for element in linkList[1:]:\n",
    "        outbound_Key = element\n",
    "        toAppendList = [outbound_Key , source_page , source_divided_value]\n",
    "        MapList.append(toAppendList)        "
   ]
  },
  {
   "cell_type": "code",
   "execution_count": 11,
   "metadata": {
    "collapsed": false
   },
   "outputs": [
    {
     "data": {
      "text/plain": [
       "[['C', 'A', 0.0833335],\n",
       " ['F', 'A', 0.0833335],\n",
       " ['D', 'B', 0.05555566666666667],\n",
       " ['E', 'B', 0.05555566666666667],\n",
       " ['F', 'B', 0.05555566666666667],\n",
       " ['A', 'C', 0.0833335],\n",
       " ['B', 'C', 0.0833335],\n",
       " ['A', 'D', 0.0333334],\n",
       " ['B', 'D', 0.0333334],\n",
       " ['C', 'D', 0.0333334],\n",
       " ['E', 'D', 0.0333334],\n",
       " ['F', 'D', 0.0333334],\n",
       " ['F', 'E', 0.166667],\n",
       " ['B', 'F', 0.0833335],\n",
       " ['C', 'F', 0.0833335]]"
      ]
     },
     "execution_count": 11,
     "metadata": {},
     "output_type": "execute_result"
    }
   ],
   "source": [
    "MapList"
   ]
  },
  {
   "cell_type": "code",
   "execution_count": 14,
   "metadata": {
    "collapsed": false
   },
   "outputs": [
    {
     "name": "stdout",
     "output_type": "stream",
     "text": [
      "C A 0.0833335 \n",
      "F A 0.0833335 \n",
      "D B 0.05555566666666667 \n",
      "E B 0.05555566666666667 \n",
      "F B 0.05555566666666667 \n",
      "A C 0.0833335 \n",
      "B C 0.0833335 \n",
      "A D 0.0333334 \n",
      "B D 0.0333334 \n",
      "C D 0.0333334 \n",
      "E D 0.0333334 \n",
      "F D 0.0333334 \n",
      "F E 0.166667 \n",
      "B F 0.0833335 \n",
      "C F 0.0833335 \n"
     ]
    }
   ],
   "source": [
    "resultString = \"\"\n",
    "for listResult in MapList:\n",
    "    listResult[-1] = str(listResult[-1])\n",
    "    for element in listResult:\n",
    "        resultString += element + \" \"\n",
    "    resultString += '\\n'\n",
    "\n",
    "resultString = resultString.rstrip('\\n')\n",
    "\n",
    "print(resultString)"
   ]
  },
  {
   "cell_type": "code",
   "execution_count": null,
   "metadata": {
    "collapsed": true
   },
   "outputs": [],
   "source": []
  }
 ],
 "metadata": {
  "kernelspec": {
   "display_name": "Python 3",
   "language": "python",
   "name": "python3"
  },
  "language_info": {
   "codemirror_mode": {
    "name": "ipython",
    "version": 3
   },
   "file_extension": ".py",
   "mimetype": "text/x-python",
   "name": "python",
   "nbconvert_exporter": "python",
   "pygments_lexer": "ipython3",
   "version": "3.6.0"
  }
 },
 "nbformat": 4,
 "nbformat_minor": 2
}
