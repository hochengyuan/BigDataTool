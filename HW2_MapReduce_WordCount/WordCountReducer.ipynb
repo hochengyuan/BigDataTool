{
 "cells": [
  {
   "cell_type": "code",
   "execution_count": 1,
   "metadata": {
    "collapsed": true
   },
   "outputs": [],
   "source": [
    "#!/usr/bin/env python\n",
    "\n",
    "import sys\n",
    "from operator import itemgetter\n",
    "\n",
    "# mapping word to counts\n",
    "word_to_count = {}\n",
    "\n",
    "for lines in sys.stdin:\n",
    "    # removing excessive whitespace\n",
    "    lines = lines.strip()\n",
    "    # extract the result from WordCountMapper.py\n",
    "    word , count = lines.split(' ', 1)\n",
    "\n",
    "    try:\n",
    "        count = int(count)\n",
    "        word_to_count[word] = word_to_count.get(word , 0) + count\n",
    "    except ValueError:\n",
    "        pass\n",
    "\n",
    "#sorted the result of MapReduce\n",
    "sorted_word_to_count = sorted(word_to_count.items(), key=itemgetter(0))\n",
    "\n",
    "\n",
    "for word , summing in sorted_word_to_count:\n",
    "    print('%s %d' % (word , summing))"
   ]
  }
 ],
 "metadata": {
  "kernelspec": {
   "display_name": "Python 3",
   "language": "python",
   "name": "python3"
  },
  "language_info": {
   "codemirror_mode": {
    "name": "ipython",
    "version": 3
   },
   "file_extension": ".py",
   "mimetype": "text/x-python",
   "name": "python",
   "nbconvert_exporter": "python",
   "pygments_lexer": "ipython3",
   "version": "3.6.0"
  }
 },
 "nbformat": 4,
 "nbformat_minor": 2
}
