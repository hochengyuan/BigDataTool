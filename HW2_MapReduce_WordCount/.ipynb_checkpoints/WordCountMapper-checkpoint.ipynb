{
 "cells": [
  {
   "cell_type": "code",
   "execution_count": 1,
   "metadata": {
    "collapsed": true
   },
   "outputs": [],
   "source": [
    "#!/usr/bin/env python\n",
    "\n",
    "import sys\n",
    "import re\n",
    "import string\n",
    "\n",
    "for lines in sys.stdin:\n",
    "    lines = lines.lower()\n",
    "    # removing excessive whitespace\n",
    "    lines = lines.split(\"\\n\")\n",
    "    # strip punctuation marks\n",
    "    lines = [re.sub(r'[^A-Za-z0-9]+', ' ', each_line) for each_line in lines]\n",
    "    # set the counter for each line\n",
    "    for each_line in lines:\n",
    "        if \"chicago\" in each_line:\n",
    "            print('%s %d'%('Chicago' , 1))\n",
    "        else:\n",
    "            print('%s %d'%('Chicago' , 0))\n",
    "    for each_line in lines:\n",
    "        if \"dec\" in each_line:\n",
    "            print('%s %d'%('Dec' , 1))\n",
    "        else:\n",
    "            print('%s %d'%('Dec' , 0))\n",
    "    for each_line in lines:\n",
    "         if \"java\" in each_line:\n",
    "            print('%s %d'%('Java' , 1))\n",
    "         else:\n",
    "            print('%s %d'%('Java' , 0))\n",
    "    for each_line in lines:\n",
    "         if \"hackathon\" in each_line:\n",
    "            print('%s %d'%('hackathon' , 1))\n",
    "         else:\n",
    "            print('%s %d'%('hackathon' , 0))                                                   "
   ]
  }
 ],
 "metadata": {
  "kernelspec": {
   "display_name": "Python 3",
   "language": "python",
   "name": "python3"
  },
  "language_info": {
   "codemirror_mode": {
    "name": "ipython",
    "version": 3
   },
   "file_extension": ".py",
   "mimetype": "text/x-python",
   "name": "python",
   "nbconvert_exporter": "python",
   "pygments_lexer": "ipython3",
   "version": "3.6.0"
  }
 },
 "nbformat": 4,
 "nbformat_minor": 2
}
