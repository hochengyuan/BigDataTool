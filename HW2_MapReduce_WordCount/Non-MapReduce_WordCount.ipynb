{
 "cells": [
  {
   "cell_type": "code",
   "execution_count": 5,
   "metadata": {
    "collapsed": true
   },
   "outputs": [],
   "source": [
    "import re\n",
    "\n",
    "def count_keyword_in_tweet( inputFile , keyword ):\n",
    "    # open and read the inputFile:\n",
    "    input = open( inputFile , 'r' , encoding = 'UTF-8')\n",
    "    lines = input.read().lower() # each line is lowercased\n",
    "    lines = lines.split('\\n') # transfer lines to a list of strings\n",
    "    input.close()\n",
    "    \n",
    "    # strip punctuation marks\n",
    "    lines = [re.sub(r'[^A-Za-z0-9]+', ' ', each_line) for each_line in lines]\n",
    "    \n",
    "    # count total lines contain input keywords \n",
    "    count = 0\n",
    "    keyword = keyword.lower()\n",
    "    for each_line in lines:\n",
    "        if keyword in each_line:\n",
    "            count += 1\n",
    "    \n",
    "    return count\n",
    "\n",
    "\n",
    "chicago = \"Chicago \" + \"%d\"%count_keyword_in_tweet(\"input_sample.txt\" , \"Chicago\")\n",
    "dec = \"Dec \" + \"%d\"%count_keyword_in_tweet(\"input_sample.txt\" , \"Dec\")\n",
    "java = \"Java \" + \"%d\"%count_keyword_in_tweet(\"input_sample.txt\" , \"Java\")\n",
    "hackathon = \"hackathon \" + \"%d\"%count_keyword_in_tweet(\"input_sample.txt\" , \"hackathon\")\n",
    "\n",
    "to_output_String = chicago + '\\n' + dec + '\\n' + java + '\\n' + hackathon\n",
    "\n",
    "with open('job_output.txt' , 'w' , encoding = 'UTF-8') as output:\n",
    "    output.write(to_output_String)"
   ]
  },
  {
   "cell_type": "code",
   "execution_count": 6,
   "metadata": {
    "collapsed": false,
    "scrolled": true
   },
   "outputs": [
    {
     "name": "stdout",
     "output_type": "stream",
     "text": [
      "Chicago 1\n",
      "Dec 2\n",
      "Java 0\n",
      "hackathon 2\n"
     ]
    }
   ],
   "source": [
    "print(to_output_String)"
   ]
  },
  {
   "cell_type": "code",
   "execution_count": null,
   "metadata": {
    "collapsed": true
   },
   "outputs": [],
   "source": []
  }
 ],
 "metadata": {
  "kernelspec": {
   "display_name": "Python 3",
   "language": "python",
   "name": "python3"
  },
  "language_info": {
   "codemirror_mode": {
    "name": "ipython",
    "version": 3
   },
   "file_extension": ".py",
   "mimetype": "text/x-python",
   "name": "python",
   "nbconvert_exporter": "python",
   "pygments_lexer": "ipython3",
   "version": "3.6.0"
  }
 },
 "nbformat": 4,
 "nbformat_minor": 2
}
