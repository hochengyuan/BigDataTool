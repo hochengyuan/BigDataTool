{
 "cells": [
  {
   "cell_type": "code",
   "execution_count": 1,
   "metadata": {
    "collapsed": false
   },
   "outputs": [
    {
     "name": "stdout",
     "output_type": "stream",
     "text": [
      "\n"
     ]
    }
   ],
   "source": [
    "#!/usr/bin/env python\n",
    "\n",
    "import sys\n",
    "\n",
    "new_content = []\n",
    "\n",
    "\n",
    "for content in sys.stdin:\n",
    "    # type(content) == list\n",
    "    # split [string,string,...] to [['string','string'...]...]\n",
    "    content = content.split()\n",
    "    for index_linkList , element in enumerate(content):\n",
    "        try:\n",
    "            content[index_linkList] = (float(element))\n",
    "        except ValueError:\n",
    "            pass\n",
    "    new_content.append(content)\n",
    "\n",
    "OutputLinkList = []\n",
    "for linkList in new_content:\n",
    "    if (type(linkList[-1]) == str):\n",
    "        OutputLinkList.append(linkList)\n",
    "        new_content.remove(linkList)\n",
    "\n",
    "for elementList in OutputLinkList:\n",
    "    elementList.append(0)\n",
    "\n",
    "\n",
    "\n",
    "for elementList in OutputLinkList:\n",
    "    for mapValueList in new_content:\n",
    "        if mapValueList[0] == elementList[0]:\n",
    "           elementList[-1] += mapValueList[-1]\n",
    "\n",
    "for elementList in OutputLinkList:\n",
    "    elementList[-1] = round(elementList[-1] , 6)\n",
    "\n",
    "      \n",
    "reduceResult = \"\"\n",
    "for resultLinkList in OutputLinkList:\n",
    "    resultLinkList[-1] = str(resultLinkList[-1])\n",
    "    for result in resultLinkList:\n",
    "        reduceResult += result + \" \"\n",
    "    reduceResult += '\\n' \n",
    "reduceResult = reduceResult.rstrip('\\n')\n",
    "    \n",
    "print(reduceResult)"
   ]
  }
 ],
 "metadata": {
  "kernelspec": {
   "display_name": "Python 3",
   "language": "python",
   "name": "python3"
  },
  "language_info": {
   "codemirror_mode": {
    "name": "ipython",
    "version": 3
   },
   "file_extension": ".py",
   "mimetype": "text/x-python",
   "name": "python",
   "nbconvert_exporter": "python",
   "pygments_lexer": "ipython3",
   "version": "3.6.0"
  }
 },
 "nbformat": 4,
 "nbformat_minor": 2
}
